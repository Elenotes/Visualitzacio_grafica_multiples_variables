{
 "cells": [
  {
   "cell_type": "markdown",
   "id": "0f9431c2",
   "metadata": {},
   "source": [
    "# S04 T02 Visualització gràfica de Múltiples variables"
   ]
  },
  {
   "cell_type": "markdown",
   "id": "91ca80a8",
   "metadata": {},
   "source": [
    "Anem a practicar i a familiaritzar-nos amb la Visualització gràfica de Múltiples variables.\n",
    "\n",
    "*Objectius*\n",
    "\n",
    "+ Visualització gràfica de Multiples variables\n",
    "+ Categorical Data\n",
    "+ Box-Plots\n"
   ]
  },
  {
   "cell_type": "markdown",
   "id": "3c7b42b3",
   "metadata": {},
   "source": [
    "_____________________________________"
   ]
  },
  {
   "cell_type": "markdown",
   "id": "47670575",
   "metadata": {},
   "source": [
    "## Nivell 1 - Exercici 1\n",
    "\n",
    "Realitza la pràctica del notebook a GitHub [\"03 EXAMINING DATA\"](https://github.com/IT-Academy-BCN/Data-Science/blob/main/Examining-Data/03%20EXAMINING%20DATA.ipynb) amb seaborn i el dataset [\"tips\"](https://github.com/IT-Academy-BCN/Data-Science/tree/main/Data-sources). \n"
   ]
  },
  {
   "cell_type": "code",
   "execution_count": 42,
   "id": "7f498bab",
   "metadata": {},
   "outputs": [],
   "source": [
    "#import libraries\n",
    "import numpy as np\n",
    "import pandas as pd\n",
    "import matplotlib.pyplot as plt\n",
    "import seaborn as sns\n",
    "import warnings\n",
    "\n",
    "warnings.filterwarnings('ignore')\n",
    "\n",
    "%matplotlib inline"
   ]
  },
  {
   "cell_type": "code",
   "execution_count": 100,
   "id": "df6ba1a9",
   "metadata": {},
   "outputs": [
    {
     "data": {
      "text/html": [
       "<div>\n",
       "<style scoped>\n",
       "    .dataframe tbody tr th:only-of-type {\n",
       "        vertical-align: middle;\n",
       "    }\n",
       "\n",
       "    .dataframe tbody tr th {\n",
       "        vertical-align: top;\n",
       "    }\n",
       "\n",
       "    .dataframe thead th {\n",
       "        text-align: right;\n",
       "    }\n",
       "</style>\n",
       "<table border=\"1\" class=\"dataframe\">\n",
       "  <thead>\n",
       "    <tr style=\"text-align: right;\">\n",
       "      <th></th>\n",
       "      <th>total_bill</th>\n",
       "      <th>tip</th>\n",
       "      <th>sex</th>\n",
       "      <th>smoker</th>\n",
       "      <th>day</th>\n",
       "      <th>time</th>\n",
       "      <th>size</th>\n",
       "    </tr>\n",
       "  </thead>\n",
       "  <tbody>\n",
       "    <tr>\n",
       "      <th>0</th>\n",
       "      <td>16.99</td>\n",
       "      <td>1.01</td>\n",
       "      <td>Female</td>\n",
       "      <td>No</td>\n",
       "      <td>Sun</td>\n",
       "      <td>Dinner</td>\n",
       "      <td>2</td>\n",
       "    </tr>\n",
       "    <tr>\n",
       "      <th>1</th>\n",
       "      <td>10.34</td>\n",
       "      <td>1.66</td>\n",
       "      <td>Male</td>\n",
       "      <td>No</td>\n",
       "      <td>Sun</td>\n",
       "      <td>Dinner</td>\n",
       "      <td>3</td>\n",
       "    </tr>\n",
       "    <tr>\n",
       "      <th>2</th>\n",
       "      <td>21.01</td>\n",
       "      <td>3.50</td>\n",
       "      <td>Male</td>\n",
       "      <td>No</td>\n",
       "      <td>Sun</td>\n",
       "      <td>Dinner</td>\n",
       "      <td>3</td>\n",
       "    </tr>\n",
       "    <tr>\n",
       "      <th>3</th>\n",
       "      <td>23.68</td>\n",
       "      <td>3.31</td>\n",
       "      <td>Male</td>\n",
       "      <td>No</td>\n",
       "      <td>Sun</td>\n",
       "      <td>Dinner</td>\n",
       "      <td>2</td>\n",
       "    </tr>\n",
       "    <tr>\n",
       "      <th>4</th>\n",
       "      <td>24.59</td>\n",
       "      <td>3.61</td>\n",
       "      <td>Female</td>\n",
       "      <td>No</td>\n",
       "      <td>Sun</td>\n",
       "      <td>Dinner</td>\n",
       "      <td>4</td>\n",
       "    </tr>\n",
       "  </tbody>\n",
       "</table>\n",
       "</div>"
      ],
      "text/plain": [
       "   total_bill   tip     sex smoker  day    time  size\n",
       "0       16.99  1.01  Female     No  Sun  Dinner     2\n",
       "1       10.34  1.66    Male     No  Sun  Dinner     3\n",
       "2       21.01  3.50    Male     No  Sun  Dinner     3\n",
       "3       23.68  3.31    Male     No  Sun  Dinner     2\n",
       "4       24.59  3.61  Female     No  Sun  Dinner     4"
      ]
     },
     "execution_count": 100,
     "metadata": {},
     "output_type": "execute_result"
    }
   ],
   "source": [
    "#creating the dataframe\n",
    "tips = pd.read_csv('tips.csv')\n",
    "tips.head()"
   ]
  },
  {
   "cell_type": "markdown",
   "id": "dce90a6a",
   "metadata": {},
   "source": [
    "**<span style=color:darkred>Examining data</span>**"
   ]
  },
  {
   "cell_type": "code",
   "execution_count": 101,
   "id": "fd160c5a",
   "metadata": {},
   "outputs": [
    {
     "data": {
      "text/plain": [
       "(244, 7)"
      ]
     },
     "execution_count": 101,
     "metadata": {},
     "output_type": "execute_result"
    }
   ],
   "source": [
    "tips.shape"
   ]
  },
  {
   "cell_type": "code",
   "execution_count": 102,
   "id": "8e82c052",
   "metadata": {},
   "outputs": [
    {
     "data": {
      "text/plain": [
       "Index(['total_bill', 'tip', 'sex', 'smoker', 'day', 'time', 'size'], dtype='object')"
      ]
     },
     "execution_count": 102,
     "metadata": {},
     "output_type": "execute_result"
    }
   ],
   "source": [
    "tips.columns"
   ]
  },
  {
   "cell_type": "code",
   "execution_count": 108,
   "id": "05e550d0",
   "metadata": {},
   "outputs": [
    {
     "data": {
      "text/html": [
       "<div>\n",
       "<style scoped>\n",
       "    .dataframe tbody tr th:only-of-type {\n",
       "        vertical-align: middle;\n",
       "    }\n",
       "\n",
       "    .dataframe tbody tr th {\n",
       "        vertical-align: top;\n",
       "    }\n",
       "\n",
       "    .dataframe thead th {\n",
       "        text-align: right;\n",
       "    }\n",
       "</style>\n",
       "<table border=\"1\" class=\"dataframe\">\n",
       "  <thead>\n",
       "    <tr style=\"text-align: right;\">\n",
       "      <th></th>\n",
       "      <th>total_bill</th>\n",
       "      <th>tip</th>\n",
       "      <th>size</th>\n",
       "    </tr>\n",
       "  </thead>\n",
       "  <tbody>\n",
       "    <tr>\n",
       "      <th>count</th>\n",
       "      <td>244.000000</td>\n",
       "      <td>244.000000</td>\n",
       "      <td>244.000000</td>\n",
       "    </tr>\n",
       "    <tr>\n",
       "      <th>mean</th>\n",
       "      <td>19.785943</td>\n",
       "      <td>2.998279</td>\n",
       "      <td>2.569672</td>\n",
       "    </tr>\n",
       "    <tr>\n",
       "      <th>std</th>\n",
       "      <td>8.902412</td>\n",
       "      <td>1.383638</td>\n",
       "      <td>0.951100</td>\n",
       "    </tr>\n",
       "    <tr>\n",
       "      <th>min</th>\n",
       "      <td>3.070000</td>\n",
       "      <td>1.000000</td>\n",
       "      <td>1.000000</td>\n",
       "    </tr>\n",
       "    <tr>\n",
       "      <th>25%</th>\n",
       "      <td>13.347500</td>\n",
       "      <td>2.000000</td>\n",
       "      <td>2.000000</td>\n",
       "    </tr>\n",
       "    <tr>\n",
       "      <th>50%</th>\n",
       "      <td>17.795000</td>\n",
       "      <td>2.900000</td>\n",
       "      <td>2.000000</td>\n",
       "    </tr>\n",
       "    <tr>\n",
       "      <th>75%</th>\n",
       "      <td>24.127500</td>\n",
       "      <td>3.562500</td>\n",
       "      <td>3.000000</td>\n",
       "    </tr>\n",
       "    <tr>\n",
       "      <th>max</th>\n",
       "      <td>50.810000</td>\n",
       "      <td>10.000000</td>\n",
       "      <td>6.000000</td>\n",
       "    </tr>\n",
       "  </tbody>\n",
       "</table>\n",
       "</div>"
      ],
      "text/plain": [
       "       total_bill         tip        size\n",
       "count  244.000000  244.000000  244.000000\n",
       "mean    19.785943    2.998279    2.569672\n",
       "std      8.902412    1.383638    0.951100\n",
       "min      3.070000    1.000000    1.000000\n",
       "25%     13.347500    2.000000    2.000000\n",
       "50%     17.795000    2.900000    2.000000\n",
       "75%     24.127500    3.562500    3.000000\n",
       "max     50.810000   10.000000    6.000000"
      ]
     },
     "execution_count": 108,
     "metadata": {},
     "output_type": "execute_result"
    }
   ],
   "source": [
    "tips.describe()"
   ]
  },
  {
   "cell_type": "markdown",
   "id": "b2606f60",
   "metadata": {},
   "source": [
    "Examining categorical columns:"
   ]
  },
  {
   "cell_type": "code",
   "execution_count": 103,
   "id": "6186420a",
   "metadata": {},
   "outputs": [
    {
     "data": {
      "text/plain": [
       "array(['Female', 'Male'], dtype=object)"
      ]
     },
     "execution_count": 103,
     "metadata": {},
     "output_type": "execute_result"
    }
   ],
   "source": [
    "tips.sex.unique()"
   ]
  },
  {
   "cell_type": "code",
   "execution_count": 104,
   "id": "2adaf759",
   "metadata": {},
   "outputs": [
    {
     "data": {
      "text/plain": [
       "array(['No', 'Yes'], dtype=object)"
      ]
     },
     "execution_count": 104,
     "metadata": {},
     "output_type": "execute_result"
    }
   ],
   "source": [
    "tips.smoker.unique()"
   ]
  },
  {
   "cell_type": "code",
   "execution_count": 105,
   "id": "624d6f90",
   "metadata": {},
   "outputs": [
    {
     "data": {
      "text/plain": [
       "array(['Sun', 'Sat', 'Thur', 'Fri'], dtype=object)"
      ]
     },
     "execution_count": 105,
     "metadata": {},
     "output_type": "execute_result"
    }
   ],
   "source": [
    "tips.day.unique()"
   ]
  },
  {
   "cell_type": "code",
   "execution_count": 107,
   "id": "fd57200b",
   "metadata": {},
   "outputs": [
    {
     "data": {
      "text/plain": [
       "array(['Dinner', 'Lunch'], dtype=object)"
      ]
     },
     "execution_count": 107,
     "metadata": {},
     "output_type": "execute_result"
    }
   ],
   "source": [
    "tips.time.unique()"
   ]
  },
  {
   "cell_type": "markdown",
   "id": "026d0090",
   "metadata": {},
   "source": [
    "**<span style=color:darkred>Exploring bivariate variables with SCATTERPLOTS</span>**\n",
    "\n",
    "Let's analyze if there is any reationship between tips and the bill's total amount."
   ]
  },
  {
   "cell_type": "code",
   "execution_count": 113,
   "id": "09400141",
   "metadata": {},
   "outputs": [
    {
     "data": {
      "image/png": "[encoded data removed]",
      "text/plain": [
       "<Figure size 864x432 with 1 Axes>"
      ]
     },
     "metadata": {},
     "output_type": "display_data"
    }
   ],
   "source": [
    "# Create data\n",
    "x = tips.total_bill\n",
    "y = tips.tip\n",
    "colors = 'Blue'\n",
    "\n",
    "plt.figure(figsize=(12, 6))\n",
    "\n",
    "# Seaborn Plot\n",
    "sns.set()\n",
    "sns.scatterplot(x, y, data = tips, alpha = 0.7)\n",
    "\n",
    "plt.title('Tips vs Total Bill by sex', fontsize = 18)\n",
    "plt.ylabel('Tips amount')\n",
    "plt.xlabel('Total bill amount')\n",
    "plt.show()"
   ]
  },
  {
   "cell_type": "code",
   "execution_count": 112,
   "id": "1eaa8998",
   "metadata": {},
   "outputs": [
    {
     "data": {
      "text/plain": [
       "Text(0.5, 0, 'Total bill amount')"
      ]
     },
     "execution_count": 112,
     "metadata": {},
     "output_type": "execute_result"
    },
    {
     "data": {
      "image/png": "[encoded data removed]",
      "text/plain": [
       "<Figure size 432x288 with 1 Axes>"
      ]
     },
     "metadata": {},
     "output_type": "display_data"
    }
   ],
   "source": [
    "# Create data\n",
    "x = tips.total_bill\n",
    "y = tips.tip\n",
    "colors = 'Blue'\n",
    "\n",
    "fig, ax = plt.subplots()\n",
    "fig.figsize=(12, 6)\n",
    "\n",
    "# Seaborn Plot\n",
    "sns.set()\n",
    "sns.scatterplot(x, y, data = tips, alpha = 0.7, hue = \"sex\")\n",
    "\n",
    "ax.set_title('Tips vs Total Bill by sex', fontsize = 18)\n",
    "ax.set_ylabel('Tips amount')\n",
    "ax.set_xlabel('Total bill amount')\n",
    "#plt.show()"
   ]
  },
  {
   "cell_type": "markdown",
   "id": "6e7ba3f0",
   "metadata": {},
   "source": [
    "The plot shows the 244 observations from the tips dataframe, and shows that as higher the bill, higher the tips. There is a kind of correlation."
   ]
  },
  {
   "cell_type": "markdown",
   "id": "dd64056f",
   "metadata": {},
   "source": [
    "**<span style=color:darkred>Exploring variables with HISTOGRAMS</span>**\n",
    "\n",
    "Histogram provide a view of the data density. Higher bars represent where the data are relatively more common."
   ]
  },
  {
   "cell_type": "code",
   "execution_count": 114,
   "id": "e5830241",
   "metadata": {},
   "outputs": [
    {
     "data": {
      "text/html": [
       "<div>\n",
       "<style scoped>\n",
       "    .dataframe tbody tr th:only-of-type {\n",
       "        vertical-align: middle;\n",
       "    }\n",
       "\n",
       "    .dataframe tbody tr th {\n",
       "        vertical-align: top;\n",
       "    }\n",
       "\n",
       "    .dataframe thead th {\n",
       "        text-align: right;\n",
       "    }\n",
       "</style>\n",
       "<table border=\"1\" class=\"dataframe\">\n",
       "  <thead>\n",
       "    <tr style=\"text-align: right;\">\n",
       "      <th></th>\n",
       "      <th>total_bill</th>\n",
       "      <th>tip</th>\n",
       "      <th>sex</th>\n",
       "      <th>smoker</th>\n",
       "      <th>day</th>\n",
       "      <th>time</th>\n",
       "      <th>size</th>\n",
       "    </tr>\n",
       "  </thead>\n",
       "  <tbody>\n",
       "    <tr>\n",
       "      <th>0</th>\n",
       "      <td>16.99</td>\n",
       "      <td>1.01</td>\n",
       "      <td>Female</td>\n",
       "      <td>No</td>\n",
       "      <td>Sun</td>\n",
       "      <td>Dinner</td>\n",
       "      <td>2</td>\n",
       "    </tr>\n",
       "    <tr>\n",
       "      <th>1</th>\n",
       "      <td>10.34</td>\n",
       "      <td>1.66</td>\n",
       "      <td>Male</td>\n",
       "      <td>No</td>\n",
       "      <td>Sun</td>\n",
       "      <td>Dinner</td>\n",
       "      <td>3</td>\n",
       "    </tr>\n",
       "    <tr>\n",
       "      <th>2</th>\n",
       "      <td>21.01</td>\n",
       "      <td>3.50</td>\n",
       "      <td>Male</td>\n",
       "      <td>No</td>\n",
       "      <td>Sun</td>\n",
       "      <td>Dinner</td>\n",
       "      <td>3</td>\n",
       "    </tr>\n",
       "    <tr>\n",
       "      <th>3</th>\n",
       "      <td>23.68</td>\n",
       "      <td>3.31</td>\n",
       "      <td>Male</td>\n",
       "      <td>No</td>\n",
       "      <td>Sun</td>\n",
       "      <td>Dinner</td>\n",
       "      <td>2</td>\n",
       "    </tr>\n",
       "    <tr>\n",
       "      <th>4</th>\n",
       "      <td>24.59</td>\n",
       "      <td>3.61</td>\n",
       "      <td>Female</td>\n",
       "      <td>No</td>\n",
       "      <td>Sun</td>\n",
       "      <td>Dinner</td>\n",
       "      <td>4</td>\n",
       "    </tr>\n",
       "  </tbody>\n",
       "</table>\n",
       "</div>"
      ],
      "text/plain": [
       "   total_bill   tip     sex smoker  day    time  size\n",
       "0       16.99  1.01  Female     No  Sun  Dinner     2\n",
       "1       10.34  1.66    Male     No  Sun  Dinner     3\n",
       "2       21.01  3.50    Male     No  Sun  Dinner     3\n",
       "3       23.68  3.31    Male     No  Sun  Dinner     2\n",
       "4       24.59  3.61  Female     No  Sun  Dinner     4"
      ]
     },
     "execution_count": 114,
     "metadata": {},
     "output_type": "execute_result"
    }
   ],
   "source": [
    "tips.head()"
   ]
  },
  {
   "cell_type": "code",
   "execution_count": 123,
   "id": "2382fcab",
   "metadata": {},
   "outputs": [
    {
     "data": {
      "text/plain": [
       "Text(0.5, 0, 'Bill amount')"
      ]
     },
     "execution_count": 123,
     "metadata": {},
     "output_type": "execute_result"
    },
    {
     "data": {
      "image/png": "[encoded data removed]",
      "text/plain": [
       "<Figure size 432x288 with 1 Axes>"
      ]
     },
     "metadata": {},
     "output_type": "display_data"
    }
   ],
   "source": [
    "#plot two histograms to compare bills and tips\n",
    "\n",
    "tips.hist(['total_bill'])\n",
    "plt.title('Frequency of Bill Amount', fontsize = 14)\n",
    "plt.ylabel('Frequency')\n",
    "plt.xlabel('Bill amount')"
   ]
  },
  {
   "cell_type": "code",
   "execution_count": 126,
   "id": "ee2dd83d",
   "metadata": {},
   "outputs": [
    {
     "data": {
      "text/plain": [
       "Text(0.5, 0, 'Tip amount')"
      ]
     },
     "execution_count": 126,
     "metadata": {},
     "output_type": "execute_result"
    },
    {
     "data": {
      "image/png": "[encoded data removed]",
      "text/plain": [
       "<Figure size 432x288 with 1 Axes>"
      ]
     },
     "metadata": {},
     "output_type": "display_data"
    }
   ],
   "source": [
    "tips.hist(['tip'], color = \"green\")\n",
    "plt.title('Frequency of Tips Amount', fontsize = 14)\n",
    "plt.ylabel('Frequency')\n",
    "plt.xlabel('Tip amount')"
   ]
  },
  {
   "cell_type": "markdown",
   "id": "22af6eed",
   "metadata": {},
   "source": [
    "The most frequent bills amount are 10 to 20 dollars, and the most frequent tip amount is 2 or 3 dollars. The distributions are a bit *right skewed*"
   ]
  },
  {
   "cell_type": "markdown",
   "id": "90eb82ea",
   "metadata": {},
   "source": [
    "**<span style=color:darkred>Modal Distribution</span>**\n",
    "\n",
    "The **mode** is the values with most occurrences.\n",
    "\n",
    "The *bill amount histogram* looks it is a **multimodal** distribution (has more tha 2 prominent bins).\n",
    "\n",
    "The *tips amount histogram* it is a **bimodal** distribution."
   ]
  },
  {
   "cell_type": "markdown",
   "id": "d5a7e71d",
   "metadata": {},
   "source": [
    "**<span style=color:blue>SUMMARY STATISTICS</span>**\n",
    "\n",
    "**<span style=color:darkred>Mean - Average</span>**\n",
    "\n",
    "The **mean**, sometimes called the **average**, is a common way to measure the center of a distribution of data"
   ]
  },
  {
   "cell_type": "code",
   "execution_count": 133,
   "id": "ed5fc9f7",
   "metadata": {},
   "outputs": [
    {
     "data": {
      "text/plain": [
       "2.998"
      ]
     },
     "execution_count": 133,
     "metadata": {},
     "output_type": "execute_result"
    }
   ],
   "source": [
    "round(tips.tip.mean(), 3)"
   ]
  },
  {
   "cell_type": "code",
   "execution_count": 135,
   "id": "a0fd0987",
   "metadata": {},
   "outputs": [
    {
     "data": {
      "text/plain": [
       "19.79"
      ]
     },
     "execution_count": 135,
     "metadata": {},
     "output_type": "execute_result"
    }
   ],
   "source": [
    "round(tips.total_bill.mean(), 2)"
   ]
  },
  {
   "cell_type": "markdown",
   "id": "cd952646",
   "metadata": {},
   "source": [
    "The average of tips is almost 3 dollars, while the bill is around 19.20 dollars."
   ]
  },
  {
   "cell_type": "markdown",
   "id": "923b8304",
   "metadata": {},
   "source": [
    "**<span style=color:darkred>Variance</span>**\n",
    "\n",
    "The **mean** was introduced as a method to describe the center of a data set, but the variability in the data is also important. \n",
    "\n",
    "We call the *distance of an observation from its mean* its **Deviation**.\n",
    "\n",
    "**If we square these deviation and then take an average, the result is about equal to the sample variance.**"
   ]
  },
  {
   "cell_type": "markdown",
   "id": "8b3ca988",
   "metadata": {},
   "source": [
    "**<span style=color:darkred>Standard Deviation</span>**\n",
    "\n",
    "The **Standard Deviation** is defined as the *square root of the Variance*.\n",
    "\n",
    "The Standard Deviation is useful when considering how close the data are to the Mean. "
   ]
  },
  {
   "cell_type": "code",
   "execution_count": 138,
   "id": "087f5b5f",
   "metadata": {},
   "outputs": [
    {
     "data": {
      "text/plain": [
       "8.9"
      ]
     },
     "execution_count": 138,
     "metadata": {},
     "output_type": "execute_result"
    }
   ],
   "source": [
    "round(tips.total_bill.std(),2)"
   ]
  },
  {
   "cell_type": "code",
   "execution_count": 139,
   "id": "86231da7",
   "metadata": {},
   "outputs": [
    {
     "data": {
      "text/plain": [
       "1.4"
      ]
     },
     "execution_count": 139,
     "metadata": {},
     "output_type": "execute_result"
    }
   ],
   "source": [
    "round(tips.tip.std(),1)"
   ]
  },
  {
   "cell_type": "markdown",
   "id": "601d23dc",
   "metadata": {},
   "source": [
    "**<span style=color:blue>BOXPLOTS</span>**\n",
    "\n",
    "A Box Plot summarizes a dataset using five statistics while also plotting unusual observations - Anomalies or Outliers.\n",
    "+ min, \n",
    "+ max, \n",
    "+ 25% percentile, \n",
    "+ median (50% percentile), \n",
    "+ 75 % percentile.\n",
    "\n",
    "**<span style=color:darkred>Quartiles, and the Median</span>**"
   ]
  },
  {
   "cell_type": "code",
   "execution_count": 140,
   "id": "e5d239d4",
   "metadata": {},
   "outputs": [
    {
     "data": {
      "text/plain": [
       "count    244.000000\n",
       "mean      19.785943\n",
       "std        8.902412\n",
       "min        3.070000\n",
       "25%       13.347500\n",
       "50%       17.795000\n",
       "75%       24.127500\n",
       "max       50.810000\n",
       "Name: total_bill, dtype: float64"
      ]
     },
     "execution_count": 140,
     "metadata": {},
     "output_type": "execute_result"
    }
   ],
   "source": [
    "tips.total_bill.describe()"
   ]
  },
  {
   "cell_type": "markdown",
   "id": "9063d541",
   "metadata": {},
   "source": [
    "The median or 50% percentile, splits the bills in 50% under 17.8 dollars, and 50% above this amount."
   ]
  },
  {
   "cell_type": "code",
   "execution_count": 141,
   "id": "5c134de4",
   "metadata": {},
   "outputs": [
    {
     "data": {
      "text/plain": [
       "17.795"
      ]
     },
     "execution_count": 141,
     "metadata": {},
     "output_type": "execute_result"
    }
   ],
   "source": [
    "tips.total_bill.median()"
   ]
  },
  {
   "cell_type": "code",
   "execution_count": 149,
   "id": "cfad20e6",
   "metadata": {},
   "outputs": [
    {
     "data": {
      "image/png": "[encoded data removed]",
      "text/plain": [
       "<Figure size 432x288 with 1 Axes>"
      ]
     },
     "metadata": {},
     "output_type": "display_data"
    }
   ],
   "source": [
    "#plot a boxplot\n",
    "sns.set(style=\"whitegrid\")\n",
    "ax = sns.boxplot(x=tips['total_bill'], color='lightgreen', \n",
    "                 fliersize=5,  orient='v', linewidth=1 , \n",
    "                 width=0.3)"
   ]
  },
  {
   "cell_type": "markdown",
   "id": "9a799185",
   "metadata": {},
   "source": [
    "If the data are ordered from smallest to largest, the **median** *is the observation right in the middle*.\n",
    "\n",
    "If there are an even number of observations, there will be two values in the middle, and the median is taken as their average.\n",
    "\n",
    "The 75% of values are under 24 dollars. And the 25% under 14 (aprox.). The interquartile range (the lightblue box), represents to 50% data in the middle, wich means that 50% of the bills are between 14 and 24 dollars (aprox)."
   ]
  },
  {
   "cell_type": "code",
   "execution_count": 150,
   "id": "fcae8144",
   "metadata": {},
   "outputs": [
    {
     "data": {
      "text/plain": [
       "<AxesSubplot:xlabel='total_bill'>"
      ]
     },
     "execution_count": 150,
     "metadata": {},
     "output_type": "execute_result"
    },
    {
     "data": {
      "image/png": "[encoded data removed]",
      "text/plain": [
       "<Figure size 432x288 with 1 Axes>"
      ]
     },
     "metadata": {},
     "output_type": "display_data"
    }
   ],
   "source": [
    "sns.stripplot(x=tips['total_bill'], orient='v', color='green')"
   ]
  },
  {
   "cell_type": "code",
   "execution_count": 155,
   "id": "39a4497b",
   "metadata": {},
   "outputs": [
    {
     "data": {
      "image/png": "[encoded data removed]",
      "text/plain": [
       "<Figure size 432x288 with 1 Axes>"
      ]
     },
     "metadata": {},
     "output_type": "display_data"
    }
   ],
   "source": [
    "ax = sns.boxplot(y='total_bill', data=tips,  color='lightgreen', fliersize=5,  orient='v', linewidth=1 , width=0.3)\n",
    "ax = sns.stripplot(y=tips['total_bill'], orient='v', color='green', alpha = 0.6)"
   ]
  },
  {
   "cell_type": "code",
   "execution_count": 158,
   "id": "9fef8228",
   "metadata": {},
   "outputs": [
    {
     "data": {
      "image/png": "[encoded data removed]",
      "text/plain": [
       "<Figure size 432x288 with 1 Axes>"
      ]
     },
     "metadata": {},
     "output_type": "display_data"
    }
   ],
   "source": [
    "ax = sns.boxplot(y='total_bill', data=tips,  color='lightgreen', fliersize=5,  orient='v', linewidth=1 , width=0.3)\n",
    "ax = sns.swarmplot(y=tips['total_bill'], orient='v', color='green', alpha = 0.7)"
   ]
  },
  {
   "cell_type": "markdown",
   "id": "36fd073f",
   "metadata": {},
   "source": [
    "The *wiskers*:\n",
    "The lower whisker stops at the lowest value, 3.\n",
    "The upper whisker capture de data from the 75% percentile o 3th quartile + 1.5 from the InterQuartile.\n",
    "\n",
    "Any observation that lies beyond the whiskers is labeled with a dot and named **outliers**. They help to identify any observations that appear to be unusually distant from the rest of the data. "
   ]
  },
  {
   "cell_type": "markdown",
   "id": "8636a2b3",
   "metadata": {},
   "source": [
    "The difference betweem *swarmplot()* and *stripplot()* is that in the first one the points are adjusted (only along the categorical axis) so that they don’t overlap. This gives a better representation of the distribution of values."
   ]
  },
  {
   "cell_type": "markdown",
   "id": "b9c6ea03",
   "metadata": {},
   "source": [
    "________________________________________"
   ]
  },
  {
   "cell_type": "markdown",
   "id": "07eb4b14",
   "metadata": {},
   "source": [
    "## Nivell 2 - Exercici 2\n",
    "\n",
    "Repeteix l'exercici 1 amb el dataset que disposem en el repositori de GitHub [PRE-PROCESSING-DATA](https://github.com/IT-Academy-BCN/Data-Science/tree/main/Pre-processing-data), [movies.dat](https://github.com/IT-Academy-BCN/Data-Science/blob/main/Pre-processing-data/movies.dat)"
   ]
  },
  {
   "cell_type": "code",
   "execution_count": 88,
   "id": "d7a8170e",
   "metadata": {},
   "outputs": [
    {
     "data": {
      "text/html": [
       "<div>\n",
       "<style scoped>\n",
       "    .dataframe tbody tr th:only-of-type {\n",
       "        vertical-align: middle;\n",
       "    }\n",
       "\n",
       "    .dataframe tbody tr th {\n",
       "        vertical-align: top;\n",
       "    }\n",
       "\n",
       "    .dataframe thead th {\n",
       "        text-align: right;\n",
       "    }\n",
       "</style>\n",
       "<table border=\"1\" class=\"dataframe\">\n",
       "  <thead>\n",
       "    <tr style=\"text-align: right;\">\n",
       "      <th></th>\n",
       "      <th>1</th>\n",
       "      <th>2</th>\n",
       "    </tr>\n",
       "    <tr>\n",
       "      <th>0</th>\n",
       "      <th></th>\n",
       "      <th></th>\n",
       "    </tr>\n",
       "  </thead>\n",
       "  <tbody>\n",
       "    <tr>\n",
       "      <th>1</th>\n",
       "      <td>Toy Story (1995)</td>\n",
       "      <td>Animation|Children's|Comedy</td>\n",
       "    </tr>\n",
       "    <tr>\n",
       "      <th>2</th>\n",
       "      <td>Jumanji (1995)</td>\n",
       "      <td>Adventure|Children's|Fantasy</td>\n",
       "    </tr>\n",
       "    <tr>\n",
       "      <th>3</th>\n",
       "      <td>Grumpier Old Men (1995)</td>\n",
       "      <td>Comedy|Romance</td>\n",
       "    </tr>\n",
       "    <tr>\n",
       "      <th>4</th>\n",
       "      <td>Waiting to Exhale (1995)</td>\n",
       "      <td>Comedy|Drama</td>\n",
       "    </tr>\n",
       "    <tr>\n",
       "      <th>5</th>\n",
       "      <td>Father of the Bride Part II (1995)</td>\n",
       "      <td>Comedy</td>\n",
       "    </tr>\n",
       "  </tbody>\n",
       "</table>\n",
       "</div>"
      ],
      "text/plain": [
       "                                    1                             2\n",
       "0                                                                  \n",
       "1                    Toy Story (1995)   Animation|Children's|Comedy\n",
       "2                      Jumanji (1995)  Adventure|Children's|Fantasy\n",
       "3             Grumpier Old Men (1995)                Comedy|Romance\n",
       "4            Waiting to Exhale (1995)                  Comedy|Drama\n",
       "5  Father of the Bride Part II (1995)                        Comedy"
      ]
     },
     "execution_count": 88,
     "metadata": {},
     "output_type": "execute_result"
    }
   ],
   "source": [
    "#load the tips.csv file\n",
    "mov = pd.read_csv('movies.dat', sep = \"::\", index_col = 0, header = None)\n",
    "mov.head()"
   ]
  },
  {
   "cell_type": "markdown",
   "id": "47a67ee8",
   "metadata": {},
   "source": [
    "Because the *movies.dat* hasn't header, in order to avoid the first row with data became the header, we use **header = None**.\n",
    "\n",
    "Then, we can *rename()* the columns:"
   ]
  },
  {
   "cell_type": "code",
   "execution_count": 89,
   "id": "3e64f54d",
   "metadata": {},
   "outputs": [
    {
     "data": {
      "text/plain": [
       "Index(['Title', 'Genres'], dtype='object')"
      ]
     },
     "execution_count": 89,
     "metadata": {},
     "output_type": "execute_result"
    }
   ],
   "source": [
    "mov.rename(columns = {1:'Title', 2:'Genres'}, inplace = True)\n",
    "mov.columns"
   ]
  },
  {
   "cell_type": "code",
   "execution_count": 90,
   "id": "04e16fc8",
   "metadata": {},
   "outputs": [
    {
     "data": {
      "text/plain": [
       "(3883, 2)"
      ]
     },
     "execution_count": 90,
     "metadata": {},
     "output_type": "execute_result"
    }
   ],
   "source": [
    "mov.shape"
   ]
  },
  {
   "cell_type": "code",
   "execution_count": 91,
   "id": "70334bbf",
   "metadata": {},
   "outputs": [
    {
     "data": {
      "text/plain": [
       "2"
      ]
     },
     "execution_count": 91,
     "metadata": {},
     "output_type": "execute_result"
    }
   ],
   "source": [
    "mov.ndim"
   ]
  },
  {
   "cell_type": "code",
   "execution_count": 92,
   "id": "39c1ddd2",
   "metadata": {},
   "outputs": [
    {
     "data": {
      "text/html": [
       "<div>\n",
       "<style scoped>\n",
       "    .dataframe tbody tr th:only-of-type {\n",
       "        vertical-align: middle;\n",
       "    }\n",
       "\n",
       "    .dataframe tbody tr th {\n",
       "        vertical-align: top;\n",
       "    }\n",
       "\n",
       "    .dataframe thead th {\n",
       "        text-align: right;\n",
       "    }\n",
       "</style>\n",
       "<table border=\"1\" class=\"dataframe\">\n",
       "  <thead>\n",
       "    <tr style=\"text-align: right;\">\n",
       "      <th></th>\n",
       "      <th>Title</th>\n",
       "      <th>Genres</th>\n",
       "    </tr>\n",
       "  </thead>\n",
       "  <tbody>\n",
       "    <tr>\n",
       "      <th>count</th>\n",
       "      <td>3883</td>\n",
       "      <td>3883</td>\n",
       "    </tr>\n",
       "    <tr>\n",
       "      <th>unique</th>\n",
       "      <td>3883</td>\n",
       "      <td>301</td>\n",
       "    </tr>\n",
       "    <tr>\n",
       "      <th>top</th>\n",
       "      <td>Singles (1992)</td>\n",
       "      <td>Drama</td>\n",
       "    </tr>\n",
       "    <tr>\n",
       "      <th>freq</th>\n",
       "      <td>1</td>\n",
       "      <td>843</td>\n",
       "    </tr>\n",
       "  </tbody>\n",
       "</table>\n",
       "</div>"
      ],
      "text/plain": [
       "                 Title Genres\n",
       "count             3883   3883\n",
       "unique            3883    301\n",
       "top     Singles (1992)  Drama\n",
       "freq                 1    843"
      ]
     },
     "execution_count": 92,
     "metadata": {},
     "output_type": "execute_result"
    }
   ],
   "source": [
    "#get the describe values for numerical columns\n",
    "mov.describe()"
   ]
  },
  {
   "cell_type": "markdown",
   "id": "1fc39f04",
   "metadata": {},
   "source": [
    "Creating a new column with the Year from the Title"
   ]
  },
  {
   "cell_type": "code",
   "execution_count": 93,
   "id": "5a9e0e52",
   "metadata": {},
   "outputs": [
    {
     "data": {
      "text/html": [
       "<div>\n",
       "<style scoped>\n",
       "    .dataframe tbody tr th:only-of-type {\n",
       "        vertical-align: middle;\n",
       "    }\n",
       "\n",
       "    .dataframe tbody tr th {\n",
       "        vertical-align: top;\n",
       "    }\n",
       "\n",
       "    .dataframe thead th {\n",
       "        text-align: right;\n",
       "    }\n",
       "</style>\n",
       "<table border=\"1\" class=\"dataframe\">\n",
       "  <thead>\n",
       "    <tr style=\"text-align: right;\">\n",
       "      <th></th>\n",
       "      <th>Title</th>\n",
       "      <th>Genres</th>\n",
       "      <th>Year</th>\n",
       "    </tr>\n",
       "    <tr>\n",
       "      <th>0</th>\n",
       "      <th></th>\n",
       "      <th></th>\n",
       "      <th></th>\n",
       "    </tr>\n",
       "  </thead>\n",
       "  <tbody>\n",
       "    <tr>\n",
       "      <th>1</th>\n",
       "      <td>Toy Story (1995)</td>\n",
       "      <td>Animation|Children's|Comedy</td>\n",
       "      <td>1995</td>\n",
       "    </tr>\n",
       "    <tr>\n",
       "      <th>2</th>\n",
       "      <td>Jumanji (1995)</td>\n",
       "      <td>Adventure|Children's|Fantasy</td>\n",
       "      <td>1995</td>\n",
       "    </tr>\n",
       "    <tr>\n",
       "      <th>3</th>\n",
       "      <td>Grumpier Old Men (1995)</td>\n",
       "      <td>Comedy|Romance</td>\n",
       "      <td>1995</td>\n",
       "    </tr>\n",
       "    <tr>\n",
       "      <th>4</th>\n",
       "      <td>Waiting to Exhale (1995)</td>\n",
       "      <td>Comedy|Drama</td>\n",
       "      <td>1995</td>\n",
       "    </tr>\n",
       "    <tr>\n",
       "      <th>5</th>\n",
       "      <td>Father of the Bride Part II (1995)</td>\n",
       "      <td>Comedy</td>\n",
       "      <td>1995</td>\n",
       "    </tr>\n",
       "  </tbody>\n",
       "</table>\n",
       "</div>"
      ],
      "text/plain": [
       "                                Title                        Genres  Year\n",
       "0                                                                        \n",
       "1                    Toy Story (1995)   Animation|Children's|Comedy  1995\n",
       "2                      Jumanji (1995)  Adventure|Children's|Fantasy  1995\n",
       "3             Grumpier Old Men (1995)                Comedy|Romance  1995\n",
       "4            Waiting to Exhale (1995)                  Comedy|Drama  1995\n",
       "5  Father of the Bride Part II (1995)                        Comedy  1995"
      ]
     },
     "execution_count": 93,
     "metadata": {},
     "output_type": "execute_result"
    }
   ],
   "source": [
    "mov['Year'] = mov['Title'].str[-5:-1]\n",
    "mov.head()"
   ]
  },
  {
   "cell_type": "code",
   "execution_count": 99,
   "id": "64574366",
   "metadata": {},
   "outputs": [
    {
     "data": {
      "text/plain": [
       "array(['1995', '1994', '1996', '1976', '1993', '1992', '1988', '1967',\n",
       "       '1964', '1977', '1965', '1982', '1962', '1990', '1991', '1989',\n",
       "       '1937', '1940', '1969', '1981', '1973', '1970', '1960', '1955',\n",
       "       '1956', '1959', '1968', '1980', '1975', '1986', '1948', '1943',\n",
       "       '1963', '1950', '1946', '1987', '1997', '1974', '1958', '1949',\n",
       "       '1972', '1998', '1933', '1952', '1951', '1957', '1961', '1954',\n",
       "       '1934', '1944', '1942', '1941', '1953', '1939', '1947', '1945',\n",
       "       '1938', '1935', '1936', '1926', '1932', '1930', '1971', '1979',\n",
       "       '1966', '1978', '1985', '1983', '1984', '1931', '1922', '1927',\n",
       "       '1929', '1928', '1925', '1923', '1999', '1919', '2000', '1920',\n",
       "       '1921'], dtype=object)"
      ]
     },
     "execution_count": 99,
     "metadata": {},
     "output_type": "execute_result"
    }
   ],
   "source": [
    "#get the unique values from year\n",
    "mov.Year.unique()"
   ]
  },
  {
   "cell_type": "code",
   "execution_count": 95,
   "id": "e0b6a401",
   "metadata": {},
   "outputs": [
    {
     "data": {
      "text/plain": [
       "81"
      ]
     },
     "execution_count": 95,
     "metadata": {},
     "output_type": "execute_result"
    }
   ],
   "source": [
    "#get de number of different years\n",
    "mov.Year.nunique()"
   ]
  },
  {
   "cell_type": "markdown",
   "id": "a30e173e",
   "metadata": {},
   "source": [
    "#### 1. TWO NUMERICAL VARIABLES: Exploring bivariate variables with scatterplots"
   ]
  },
  {
   "cell_type": "code",
   "execution_count": null,
   "id": "64eab387",
   "metadata": {},
   "outputs": [],
   "source": []
  }
 ],
 "metadata": {
  "kernelspec": {
   "display_name": "Python 3",
   "language": "python",
   "name": "python3"
  },
  "language_info": {
   "codemirror_mode": {
    "name": "ipython",
    "version": 3
   },
   "file_extension": ".py",
   "mimetype": "text/x-python",
   "name": "python",
   "nbconvert_exporter": "python",
   "pygments_lexer": "ipython3",
   "version": "3.8.8"
  }
 },
 "nbformat": 4,
 "nbformat_minor": 5
}
