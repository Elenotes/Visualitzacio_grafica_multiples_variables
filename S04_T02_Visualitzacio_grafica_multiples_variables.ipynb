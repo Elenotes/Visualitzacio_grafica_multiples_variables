{
 "cells": [
  {
   "cell_type": "markdown",
   "id": "dbf3ffb6",
   "metadata": {},
   "source": [
    "## S04 T02 Visualització gràfica de Múltiples variables"
   ]
  },
  {
   "cell_type": "markdown",
   "id": "9f29fc32",
   "metadata": {},
   "source": [
    "Anem a practicar i a familiaritzar-nos amb la Visualització gràfica de Múltiples variables.\n",
    "\n",
    "*Objectius*\n",
    "\n",
    "+ Visualització gràfica de Multiples variables\n",
    "+ Categorical Data\n",
    "+ Box-Plots\n"
   ]
  },
  {
   "cell_type": "markdown",
   "id": "47786b4d",
   "metadata": {},
   "source": [
    "_____________________________________"
   ]
  },
  {
   "cell_type": "markdown",
   "id": "fd7663ef",
   "metadata": {},
   "source": [
    "### Nivell 1 - Exercici 1\n",
    "\n",
    "Realitza la pràctica del notebook a GitHub [\"03 EXAMINING DATA\"](https://github.com/IT-Academy-BCN/Data-Science/blob/main/Examining-Data/03%20EXAMINING%20DATA.ipynb) amb seaborn i el dataset [\"tips\"](https://github.com/IT-Academy-BCN/Data-Science/tree/main/Data-sources). \n",
    "\n",
    "\n",
    "*He descarregat el 03 EXAMINING DATA.ipynb i els fitxers amb els que treballa en local, i he executat el notebook per anar veient què fa el codi i la teoria que hi explica*."
   ]
  },
  {
   "cell_type": "markdown",
   "id": "8ac70c97",
   "metadata": {},
   "source": [
    "________________________________________"
   ]
  },
  {
   "cell_type": "markdown",
   "id": "28c1eab1",
   "metadata": {},
   "source": [
    "### Nivell 2 - Exercici 2\n",
    "\n",
    "Repeteix l'exercici 1 amb el dataset que disposem en el repositori de GitHub [PRE-PROCESSING-DATA](https://github.com/IT-Academy-BCN/Data-Science/tree/main/Pre-processing-data), [movies.dat](https://github.com/IT-Academy-BCN/Data-Science/blob/main/Pre-processing-data/movies.dat)"
   ]
  },
  {
   "cell_type": "code",
   "execution_count": 42,
   "id": "b6d1dd46",
   "metadata": {},
   "outputs": [],
   "source": [
    "#import libraries\n",
    "import numpy as np\n",
    "import pandas as pd\n",
    "import matplotlib.pyplot as plt\n",
    "import seaborn as sns\n",
    "import warnings\n",
    "\n",
    "warnings.filterwarnings('ignore')\n",
    "\n",
    "%matplotlib inline"
   ]
  },
  {
   "cell_type": "code",
   "execution_count": 56,
   "id": "889a4a5a",
   "metadata": {},
   "outputs": [
    {
     "data": {
      "text/html": [
       "<div>\n",
       "<style scoped>\n",
       "    .dataframe tbody tr th:only-of-type {\n",
       "        vertical-align: middle;\n",
       "    }\n",
       "\n",
       "    .dataframe tbody tr th {\n",
       "        vertical-align: top;\n",
       "    }\n",
       "\n",
       "    .dataframe thead th {\n",
       "        text-align: right;\n",
       "    }\n",
       "</style>\n",
       "<table border=\"1\" class=\"dataframe\">\n",
       "  <thead>\n",
       "    <tr style=\"text-align: right;\">\n",
       "      <th></th>\n",
       "      <th>Toy Story (1995)</th>\n",
       "      <th>Animation|Children's|Comedy</th>\n",
       "    </tr>\n",
       "    <tr>\n",
       "      <th>1</th>\n",
       "      <th></th>\n",
       "      <th></th>\n",
       "    </tr>\n",
       "  </thead>\n",
       "  <tbody>\n",
       "    <tr>\n",
       "      <th>2</th>\n",
       "      <td>Jumanji (1995)</td>\n",
       "      <td>Adventure|Children's|Fantasy</td>\n",
       "    </tr>\n",
       "    <tr>\n",
       "      <th>3</th>\n",
       "      <td>Grumpier Old Men (1995)</td>\n",
       "      <td>Comedy|Romance</td>\n",
       "    </tr>\n",
       "    <tr>\n",
       "      <th>4</th>\n",
       "      <td>Waiting to Exhale (1995)</td>\n",
       "      <td>Comedy|Drama</td>\n",
       "    </tr>\n",
       "    <tr>\n",
       "      <th>5</th>\n",
       "      <td>Father of the Bride Part II (1995)</td>\n",
       "      <td>Comedy</td>\n",
       "    </tr>\n",
       "    <tr>\n",
       "      <th>6</th>\n",
       "      <td>Heat (1995)</td>\n",
       "      <td>Action|Crime|Thriller</td>\n",
       "    </tr>\n",
       "  </tbody>\n",
       "</table>\n",
       "</div>"
      ],
      "text/plain": [
       "                     Toy Story (1995)   Animation|Children's|Comedy\n",
       "1                                                                  \n",
       "2                      Jumanji (1995)  Adventure|Children's|Fantasy\n",
       "3             Grumpier Old Men (1995)                Comedy|Romance\n",
       "4            Waiting to Exhale (1995)                  Comedy|Drama\n",
       "5  Father of the Bride Part II (1995)                        Comedy\n",
       "6                         Heat (1995)         Action|Crime|Thriller"
      ]
     },
     "execution_count": 56,
     "metadata": {},
     "output_type": "execute_result"
    }
   ],
   "source": [
    "#load the tips.csv file\n",
    "mov = pd.read_csv('movies.dat', sep = \"::\", index_col = 0)\n",
    "mov.head()"
   ]
  },
  {
   "cell_type": "code",
   "execution_count": 52,
   "id": "d4571d52",
   "metadata": {},
   "outputs": [
    {
     "data": {
      "text/plain": [
       "(3882, 3)"
      ]
     },
     "execution_count": 52,
     "metadata": {},
     "output_type": "execute_result"
    }
   ],
   "source": [
    "mov.shape"
   ]
  },
  {
   "cell_type": "code",
   "execution_count": 49,
   "id": "8263305c",
   "metadata": {},
   "outputs": [
    {
     "data": {
      "text/plain": [
       "Index(['1', 'Toy Story (1995)', 'Animation|Children's|Comedy'], dtype='object')"
      ]
     },
     "execution_count": 49,
     "metadata": {},
     "output_type": "execute_result"
    }
   ],
   "source": [
    "mov.columns"
   ]
  },
  {
   "cell_type": "code",
   "execution_count": 13,
   "id": "294b773d",
   "metadata": {},
   "outputs": [
    {
     "data": {
      "text/html": [
       "<div>\n",
       "<style scoped>\n",
       "    .dataframe tbody tr th:only-of-type {\n",
       "        vertical-align: middle;\n",
       "    }\n",
       "\n",
       "    .dataframe tbody tr th {\n",
       "        vertical-align: top;\n",
       "    }\n",
       "\n",
       "    .dataframe thead th {\n",
       "        text-align: right;\n",
       "    }\n",
       "</style>\n",
       "<table border=\"1\" class=\"dataframe\">\n",
       "  <thead>\n",
       "    <tr style=\"text-align: right;\">\n",
       "      <th></th>\n",
       "      <th>total_bill</th>\n",
       "      <th>tip</th>\n",
       "      <th>size</th>\n",
       "    </tr>\n",
       "  </thead>\n",
       "  <tbody>\n",
       "    <tr>\n",
       "      <th>count</th>\n",
       "      <td>244.000000</td>\n",
       "      <td>244.000000</td>\n",
       "      <td>244.000000</td>\n",
       "    </tr>\n",
       "    <tr>\n",
       "      <th>mean</th>\n",
       "      <td>19.785943</td>\n",
       "      <td>2.998279</td>\n",
       "      <td>2.569672</td>\n",
       "    </tr>\n",
       "    <tr>\n",
       "      <th>std</th>\n",
       "      <td>8.902412</td>\n",
       "      <td>1.383638</td>\n",
       "      <td>0.951100</td>\n",
       "    </tr>\n",
       "    <tr>\n",
       "      <th>min</th>\n",
       "      <td>3.070000</td>\n",
       "      <td>1.000000</td>\n",
       "      <td>1.000000</td>\n",
       "    </tr>\n",
       "    <tr>\n",
       "      <th>25%</th>\n",
       "      <td>13.347500</td>\n",
       "      <td>2.000000</td>\n",
       "      <td>2.000000</td>\n",
       "    </tr>\n",
       "    <tr>\n",
       "      <th>50%</th>\n",
       "      <td>17.795000</td>\n",
       "      <td>2.900000</td>\n",
       "      <td>2.000000</td>\n",
       "    </tr>\n",
       "    <tr>\n",
       "      <th>75%</th>\n",
       "      <td>24.127500</td>\n",
       "      <td>3.562500</td>\n",
       "      <td>3.000000</td>\n",
       "    </tr>\n",
       "    <tr>\n",
       "      <th>max</th>\n",
       "      <td>50.810000</td>\n",
       "      <td>10.000000</td>\n",
       "      <td>6.000000</td>\n",
       "    </tr>\n",
       "  </tbody>\n",
       "</table>\n",
       "</div>"
      ],
      "text/plain": [
       "       total_bill         tip        size\n",
       "count  244.000000  244.000000  244.000000\n",
       "mean    19.785943    2.998279    2.569672\n",
       "std      8.902412    1.383638    0.951100\n",
       "min      3.070000    1.000000    1.000000\n",
       "25%     13.347500    2.000000    2.000000\n",
       "50%     17.795000    2.900000    2.000000\n",
       "75%     24.127500    3.562500    3.000000\n",
       "max     50.810000   10.000000    6.000000"
      ]
     },
     "execution_count": 13,
     "metadata": {},
     "output_type": "execute_result"
    }
   ],
   "source": [
    "#get the describe values for numerical columns\n",
    "tips.describe()"
   ]
  },
  {
   "cell_type": "code",
   "execution_count": 14,
   "id": "74eb2b1b",
   "metadata": {},
   "outputs": [
    {
     "data": {
      "text/plain": [
       "array(['No', 'Yes'], dtype=object)"
      ]
     },
     "execution_count": 14,
     "metadata": {},
     "output_type": "execute_result"
    }
   ],
   "source": [
    "#get the unique values for each categorical column\n",
    "tips.smoker.unique()"
   ]
  },
  {
   "cell_type": "code",
   "execution_count": 15,
   "id": "bee0157f",
   "metadata": {},
   "outputs": [
    {
     "data": {
      "text/plain": [
       "array(['Sun', 'Sat', 'Thur', 'Fri'], dtype=object)"
      ]
     },
     "execution_count": 15,
     "metadata": {},
     "output_type": "execute_result"
    }
   ],
   "source": [
    "tips.day.unique()"
   ]
  },
  {
   "cell_type": "code",
   "execution_count": 16,
   "id": "a9c95066",
   "metadata": {},
   "outputs": [
    {
     "data": {
      "text/plain": [
       "array(['Dinner', 'Lunch'], dtype=object)"
      ]
     },
     "execution_count": 16,
     "metadata": {},
     "output_type": "execute_result"
    }
   ],
   "source": [
    "tips.time.unique()"
   ]
  },
  {
   "cell_type": "markdown",
   "id": "a8cc443d",
   "metadata": {},
   "source": [
    "#### 1. TWO NUMERICAL VARIABLES: Exploring bivariate variables with scatterplots"
   ]
  },
  {
   "cell_type": "markdown",
   "id": "74febe5c",
   "metadata": {},
   "source": [
    "Let's analyze if there is any correlation between tips and the bill's total amount."
   ]
  },
  {
   "cell_type": "code",
   "execution_count": 40,
   "id": "e122f233",
   "metadata": {},
   "outputs": [
    {
     "data": {
      "image/png": "[encoded data removed]",
      "text/plain": [
       "<Figure size 864x432 with 1 Axes>"
      ]
     },
     "metadata": {},
     "output_type": "display_data"
    }
   ],
   "source": [
    "# Create data\n",
    "x = tips.total_bill\n",
    "y = tips.tip\n",
    "colors = 'Blue'\n",
    "\n",
    "plt.figure(figsize=(12, 6))\n",
    "\n",
    "# Seaborn Plot\n",
    "sns.set()\n",
    "sns.scatterplot(x, y, data = tips, alpha = 0.7, hue = \"sex\")\n",
    "\n",
    "plt.title('Tips vs Total Bill by sex', fontsize = 18)\n",
    "plt.ylabel('Tips amount')\n",
    "plt.xlabel('Total bill amount')\n",
    "plt.show()"
   ]
  },
  {
   "cell_type": "code",
   "execution_count": null,
   "id": "7cafd023",
   "metadata": {},
   "outputs": [],
   "source": []
  }
 ],
 "metadata": {
  "kernelspec": {
   "display_name": "Python 3",
   "language": "python",
   "name": "python3"
  },
  "language_info": {
   "codemirror_mode": {
    "name": "ipython",
    "version": 3
   },
   "file_extension": ".py",
   "mimetype": "text/x-python",
   "name": "python",
   "nbconvert_exporter": "python",
   "pygments_lexer": "ipython3",
   "version": "3.8.8"
  }
 },
 "nbformat": 4,
 "nbformat_minor": 5
}
